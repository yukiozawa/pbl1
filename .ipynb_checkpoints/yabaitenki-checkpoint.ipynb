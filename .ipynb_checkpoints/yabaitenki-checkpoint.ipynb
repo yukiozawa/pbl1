{
 "cells": [
  {
   "cell_type": "code",
   "execution_count": 1,
   "metadata": {},
   "outputs": [
    {
     "name": "stderr",
     "output_type": "stream",
     "text": [
      "Using TensorFlow backend.\n"
     ]
    }
   ],
   "source": [
    "import keras"
   ]
  },
  {
   "cell_type": "code",
   "execution_count": 2,
   "metadata": {
    "collapsed": true
   },
   "outputs": [],
   "source": [
    "import keras\n",
    "from keras.utils import np_utils\n",
    "from keras.layers.convolutional import Conv2D, MaxPooling2D\n",
    "from keras.models import Sequential\n",
    "from keras.layers.core import Dense, Dropout, Activation, Flatten\n",
    "from keras.preprocessing.image import array_to_img, img_to_array, list_pictures, load_img\n",
    "import numpy as np\n",
    "import pandas as pd\n",
    "from sklearn.model_selection import train_test_split\n",
    "import matplotlib.pyplot as plt\n",
    "import pandas as pd"
   ]
  },
  {
   "cell_type": "code",
   "execution_count": 3,
   "metadata": {},
   "outputs": [],
   "source": [
    "df = pd.read_csv(\"data_all.csv\")\n",
    "# df.head()"
   ]
  },
  {
   "cell_type": "code",
   "execution_count": 4,
   "metadata": {
    "collapsed": true
   },
   "outputs": [],
   "source": [
    "x, t = [], []"
   ]
  },
  {
   "cell_type": "code",
   "execution_count": 5,
   "metadata": {
    "collapsed": true
   },
   "outputs": [],
   "source": [
    "for (i, row) in df.iterrows():\n",
    "    filepath = row['filepath']\n",
    "    tmp_img = load_img(filepath, target_size=(32,32))\n",
    "    img = img_to_array(tmp_img) / 255.0 # -> float32 + 正規化\n",
    "    \n",
    "    # データに追加\n",
    "    x.append(img)\n",
    "    t.append(row['label'])"
   ]
  },
  {
   "cell_type": "code",
   "execution_count": 6,
   "metadata": {
    "collapsed": true
   },
   "outputs": [],
   "source": [
    "# numpyに変換\n",
    "x = np.array(x, 'f')"
   ]
  },
  {
   "cell_type": "code",
   "execution_count": 7,
   "metadata": {
    "collapsed": true
   },
   "outputs": [],
   "source": [
    "# x.shape"
   ]
  },
  {
   "cell_type": "code",
   "execution_count": 8,
   "metadata": {
    "collapsed": true
   },
   "outputs": [],
   "source": [
    "# クラスの形式を変換 <- one-hot表現\n",
    "t = np_utils.to_categorical(t, 2)"
   ]
  },
  {
   "cell_type": "code",
   "execution_count": null,
   "metadata": {
    "collapsed": true
   },
   "outputs": [],
   "source": [
    "# 学習用データとテストデータ\n",
    "x_train, x_test, t_train, t_test = train_test_split(x, t, test_size=0.33, random_state=1)"
   ]
  },
  {
   "cell_type": "code",
   "execution_count": null,
   "metadata": {
    "collapsed": true
   },
   "outputs": [],
   "source": []
  },
  {
   "cell_type": "code",
   "execution_count": null,
   "metadata": {},
   "outputs": [
    {
     "name": "stdout",
     "output_type": "stream",
     "text": [
      "Train on 824 samples, validate on 406 samples\n",
      "Epoch 1/50\n",
      "824/824 [==============================] - 5s 6ms/step - loss: 0.8708 - acc: 0.5291 - val_loss: 0.7208 - val_acc: 0.5394\n",
      "Epoch 2/50\n",
      "824/824 [==============================] - 4s 5ms/step - loss: 0.6416 - acc: 0.6262 - val_loss: 0.6389 - val_acc: 0.6552\n",
      "Epoch 3/50\n",
      "824/824 [==============================] - 4s 5ms/step - loss: 0.5861 - acc: 0.6966 - val_loss: 0.6379 - val_acc: 0.6749\n",
      "Epoch 4/50\n",
      "824/824 [==============================] - 4s 5ms/step - loss: 0.5350 - acc: 0.7318 - val_loss: 0.6245 - val_acc: 0.6700\n",
      "Epoch 5/50\n",
      "824/824 [==============================] - 4s 5ms/step - loss: 0.4950 - acc: 0.7597 - val_loss: 0.6254 - val_acc: 0.6700\n",
      "Epoch 6/50\n",
      "824/824 [==============================] - 4s 5ms/step - loss: 0.4499 - acc: 0.7852 - val_loss: 0.6981 - val_acc: 0.6502\n",
      "Epoch 7/50\n",
      "824/824 [==============================] - 4s 5ms/step - loss: 0.4133 - acc: 0.8095 - val_loss: 0.6439 - val_acc: 0.6478\n",
      "Epoch 8/50\n",
      "824/824 [==============================] - 4s 5ms/step - loss: 0.3551 - acc: 0.8568 - val_loss: 0.7384 - val_acc: 0.6478\n",
      "Epoch 9/50\n",
      "824/824 [==============================] - 4s 5ms/step - loss: 0.3237 - acc: 0.8714 - val_loss: 0.7576 - val_acc: 0.6429\n",
      "Epoch 10/50\n",
      "824/824 [==============================] - 4s 5ms/step - loss: 0.2718 - acc: 0.8981 - val_loss: 0.7549 - val_acc: 0.6429\n",
      "Epoch 11/50\n",
      "824/824 [==============================] - 4s 5ms/step - loss: 0.2501 - acc: 0.9102 - val_loss: 0.7782 - val_acc: 0.6429\n",
      "Epoch 12/50\n",
      "824/824 [==============================] - 4s 5ms/step - loss: 0.2083 - acc: 0.9308 - val_loss: 0.8886 - val_acc: 0.6429\n",
      "Epoch 13/50\n",
      "824/824 [==============================] - 4s 5ms/step - loss: 0.1930 - acc: 0.9284 - val_loss: 0.8691 - val_acc: 0.6379\n",
      "Epoch 14/50\n",
      "824/824 [==============================] - 4s 5ms/step - loss: 0.1638 - acc: 0.9442 - val_loss: 0.9215 - val_acc: 0.6429\n",
      "Epoch 15/50\n",
      "824/824 [==============================] - 4s 5ms/step - loss: 0.1359 - acc: 0.9624 - val_loss: 0.9860 - val_acc: 0.6355\n",
      "Epoch 16/50\n",
      "824/824 [==============================] - 4s 5ms/step - loss: 0.1223 - acc: 0.9551 - val_loss: 0.9847 - val_acc: 0.6108\n",
      "Epoch 17/50\n",
      "824/824 [==============================] - 4s 5ms/step - loss: 0.1270 - acc: 0.9612 - val_loss: 1.0299 - val_acc: 0.5985\n",
      "Epoch 18/50\n",
      "824/824 [==============================] - 4s 5ms/step - loss: 0.1126 - acc: 0.9587 - val_loss: 1.1628 - val_acc: 0.6527\n",
      "Epoch 19/50\n",
      "824/824 [==============================] - 5s 6ms/step - loss: 0.1132 - acc: 0.9636 - val_loss: 1.1673 - val_acc: 0.6059\n",
      "Epoch 20/50\n",
      "824/824 [==============================] - 4s 5ms/step - loss: 0.1197 - acc: 0.9624 - val_loss: 1.2004 - val_acc: 0.5961\n",
      "Epoch 21/50\n",
      "824/824 [==============================] - 5s 6ms/step - loss: 0.1057 - acc: 0.9587 - val_loss: 1.1393 - val_acc: 0.6232\n",
      "Epoch 22/50\n",
      "824/824 [==============================] - 4s 5ms/step - loss: 0.0829 - acc: 0.9745 - val_loss: 1.2353 - val_acc: 0.6379\n",
      "Epoch 23/50\n",
      "824/824 [==============================] - 7s 8ms/step - loss: 0.0662 - acc: 0.9830 - val_loss: 1.4366 - val_acc: 0.6527\n",
      "Epoch 24/50\n",
      "824/824 [==============================] - 6s 8ms/step - loss: 0.0639 - acc: 0.9794 - val_loss: 1.2810 - val_acc: 0.6429\n",
      "Epoch 25/50\n",
      " 30/824 [>.............................] - ETA: 4s - loss: 0.0655 - acc: 0.9667"
     ]
    }
   ],
   "source": [
    "# CNNを構築\n",
    "model = Sequential()\n",
    "\n",
    "model.add(Conv2D(32, (3, 3), padding='same',\n",
    "                 input_shape=x_train.shape[1:]))\n",
    "model.add(Activation('relu'))\n",
    "model.add(MaxPooling2D(pool_size=(2, 2)))\n",
    "model.add(Dropout(0.25))\n",
    "model.add(Flatten())\n",
    "model.add(Dense(512))\n",
    "model.add(Activation('relu'))\n",
    "model.add(Dropout(0.5))\n",
    "model.add(Dense(2))       # クラスは2個\n",
    "model.add(Activation('softmax'))\n",
    "\n",
    "# コンパイル\n",
    "model.compile(loss='categorical_crossentropy',\n",
    "              optimizer='Adam',\n",
    "              metrics=['accuracy'])\n",
    "\n",
    "# 実行。出力はなしで設定(verbose=0)。\n",
    "history = model.fit(x_train, t_train, batch_size=30, epochs=50,\n",
    "                   validation_data = (x_test, t_test))"
   ]
  },
  {
   "cell_type": "code",
   "execution_count": null,
   "metadata": {},
   "outputs": [],
   "source": [
    "plt.plot(history.history['acc'])\n",
    "plt.plot(history.history['val_acc'])\n",
    "plt.title('model accuracy')\n",
    "plt.xlabel('epoch')\n",
    "plt.ylabel('accuracy')\n",
    "plt.legend(['acc', 'val_acc'], loc='lower right')\n",
    "plt.show()"
   ]
  },
  {
   "cell_type": "code",
   "execution_count": null,
   "metadata": {
    "collapsed": true
   },
   "outputs": [],
   "source": []
  }
 ],
 "metadata": {
  "kernelspec": {
   "display_name": "Python 3",
   "language": "python",
   "name": "python3"
  },
  "language_info": {
   "codemirror_mode": {
    "name": "ipython",
    "version": 3
   },
   "file_extension": ".py",
   "mimetype": "text/x-python",
   "name": "python",
   "nbconvert_exporter": "python",
   "pygments_lexer": "ipython3",
   "version": "3.6.3"
  }
 },
 "nbformat": 4,
 "nbformat_minor": 2
}
