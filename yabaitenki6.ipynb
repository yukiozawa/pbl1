{
 "cells": [
  {
   "cell_type": "code",
   "execution_count": 17,
   "metadata": {
    "collapsed": true
   },
   "outputs": [],
   "source": [
    "import keras\n",
    "import keras\n",
    "from keras.utils import np_utils\n",
    "from keras.layers.convolutional import Conv2D, MaxPooling2D\n",
    "from keras.models import Sequential\n",
    "from keras.layers.core import Dense, Dropout, Activation, Flatten\n",
    "from keras.layers import BatchNormalization\n",
    "from keras.preprocessing.image import array_to_img, img_to_array, list_pictures, load_img\n",
    "import numpy as np\n",
    "import pandas as pd\n",
    "from sklearn.model_selection import train_test_split\n",
    "import matplotlib.pyplot as plt\n",
    "import pandas as pd\n",
    "\n",
    "df = pd.read_csv(\"data_all.csv\")\n",
    "# df.head()\n",
    "\n",
    "x, t = [], []\n",
    "\n",
    "for (i, row) in df.iterrows():\n",
    "    filepath = row['filepath']\n",
    "    tmp_img = load_img(filepath, target_size=(32,32))\n",
    "    img = img_to_array(tmp_img) / 255.0 # -> float32 + 正規化\n",
    "    \n",
    "    # データに追加\n",
    "    x.append(img)\n",
    "    t.append(row['label'])\n",
    "    \n",
    "# numpyに変換\n",
    "x = np.array(x, 'f')\n",
    "\n",
    "# x.shape\n",
    "\n",
    "# クラスの形式を変換 <- one-hot表現\n",
    "t = np_utils.to_categorical(t, 2)\n",
    "\n",
    "# 学習用データとテストデータ\n",
    "x_train, x_test, t_train, t_test = train_test_split(x, t, test_size=0.33, random_state=1)\n",
    "\n"
   ]
  },
  {
   "cell_type": "code",
   "execution_count": 24,
   "metadata": {},
   "outputs": [
    {
     "data": {
      "text/plain": [
       "(32, 32, 3)"
      ]
     },
     "execution_count": 24,
     "metadata": {},
     "output_type": "execute_result"
    }
   ],
   "source": [
    "x_train.shape[1:]"
   ]
  },
  {
   "cell_type": "code",
   "execution_count": 25,
   "metadata": {
    "scrolled": true
   },
   "outputs": [
    {
     "name": "stdout",
     "output_type": "stream",
     "text": [
      "Train on 824 samples, validate on 406 samples\n",
      "Epoch 1/50\n",
      "824/824 [==============================] - 11s 13ms/step - loss: 2.7309 - acc: 0.5704 - val_loss: 1.2814 - val_acc: 0.5148\n",
      "Epoch 2/50\n",
      "824/824 [==============================] - 9s 11ms/step - loss: 0.6749 - acc: 0.6566 - val_loss: 0.8325 - val_acc: 0.6158\n",
      "Epoch 3/50\n",
      "824/824 [==============================] - 9s 11ms/step - loss: 0.4796 - acc: 0.7646 - val_loss: 0.8535 - val_acc: 0.6305\n",
      "Epoch 4/50\n",
      "824/824 [==============================] - 9s 11ms/step - loss: 0.3359 - acc: 0.8410 - val_loss: 1.0227 - val_acc: 0.6158\n",
      "Epoch 5/50\n",
      "824/824 [==============================] - 10s 12ms/step - loss: 0.2494 - acc: 0.9005 - val_loss: 1.2114 - val_acc: 0.6207\n",
      "Epoch 6/50\n",
      "824/824 [==============================] - 10s 12ms/step - loss: 0.2129 - acc: 0.9114 - val_loss: 1.4487 - val_acc: 0.6010\n",
      "Epoch 7/50\n",
      "824/824 [==============================] - 11s 14ms/step - loss: 0.1622 - acc: 0.9417 - val_loss: 1.2229 - val_acc: 0.5936\n",
      "Epoch 8/50\n",
      "824/824 [==============================] - 11s 13ms/step - loss: 0.1167 - acc: 0.9636 - val_loss: 1.6328 - val_acc: 0.6034\n",
      "Epoch 9/50\n",
      "824/824 [==============================] - 10s 13ms/step - loss: 0.1461 - acc: 0.9405 - val_loss: 1.7473 - val_acc: 0.5837\n",
      "Epoch 10/50\n",
      "824/824 [==============================] - 10s 12ms/step - loss: 0.0636 - acc: 0.9806 - val_loss: 1.6541 - val_acc: 0.6034\n",
      "Epoch 11/50\n",
      "824/824 [==============================] - 10s 12ms/step - loss: 0.0634 - acc: 0.9757 - val_loss: 1.6240 - val_acc: 0.5862\n",
      "Epoch 12/50\n",
      "824/824 [==============================] - 11s 13ms/step - loss: 0.0778 - acc: 0.9745 - val_loss: 1.7297 - val_acc: 0.6034\n",
      "Epoch 13/50\n",
      "824/824 [==============================] - 11s 13ms/step - loss: 0.1011 - acc: 0.9600 - val_loss: 1.8946 - val_acc: 0.5985\n",
      "Epoch 14/50\n",
      "824/824 [==============================] - 11s 13ms/step - loss: 0.0714 - acc: 0.9697 - val_loss: 2.0117 - val_acc: 0.6207\n",
      "Epoch 15/50\n",
      "824/824 [==============================] - 10s 13ms/step - loss: 0.1304 - acc: 0.9672 - val_loss: 1.9883 - val_acc: 0.6133\n",
      "Epoch 16/50\n",
      "824/824 [==============================] - 11s 13ms/step - loss: 0.1481 - acc: 0.9490 - val_loss: 2.0852 - val_acc: 0.6059\n",
      "Epoch 17/50\n",
      "824/824 [==============================] - 11s 13ms/step - loss: 0.1728 - acc: 0.9357 - val_loss: 2.2589 - val_acc: 0.6010\n",
      "Epoch 18/50\n",
      "824/824 [==============================] - 10s 12ms/step - loss: 0.0624 - acc: 0.9806 - val_loss: 1.7922 - val_acc: 0.6379\n",
      "Epoch 19/50\n",
      "824/824 [==============================] - 10s 12ms/step - loss: 0.0137 - acc: 0.9976 - val_loss: 1.8778 - val_acc: 0.6108\n",
      "Epoch 20/50\n",
      "824/824 [==============================] - 10s 12ms/step - loss: 0.0069 - acc: 0.9964 - val_loss: 1.9134 - val_acc: 0.6059\n",
      "Epoch 21/50\n",
      "824/824 [==============================] - 10s 12ms/step - loss: 0.0031 - acc: 0.9988 - val_loss: 1.9392 - val_acc: 0.6133\n",
      "Epoch 22/50\n",
      "824/824 [==============================] - 10s 12ms/step - loss: 0.0016 - acc: 1.0000 - val_loss: 1.9558 - val_acc: 0.6084\n",
      "Epoch 23/50\n",
      "824/824 [==============================] - 10s 12ms/step - loss: 7.2856e-04 - acc: 1.0000 - val_loss: 1.9786 - val_acc: 0.6182\n",
      "Epoch 24/50\n",
      "824/824 [==============================] - 9s 11ms/step - loss: 8.1878e-04 - acc: 1.0000 - val_loss: 1.9988 - val_acc: 0.6133\n",
      "Epoch 25/50\n",
      "824/824 [==============================] - 10s 12ms/step - loss: 5.6201e-04 - acc: 1.0000 - val_loss: 2.0235 - val_acc: 0.6158\n",
      "Epoch 26/50\n",
      "824/824 [==============================] - 9s 11ms/step - loss: 5.1835e-04 - acc: 1.0000 - val_loss: 2.0537 - val_acc: 0.6158: 0s - loss: 5.3349e-04 - acc: 1\n",
      "Epoch 27/50\n",
      "824/824 [==============================] - 9s 11ms/step - loss: 3.8635e-04 - acc: 1.0000 - val_loss: 2.0655 - val_acc: 0.6158\n",
      "Epoch 28/50\n",
      "824/824 [==============================] - 9s 11ms/step - loss: 3.7385e-04 - acc: 1.0000 - val_loss: 2.0703 - val_acc: 0.6182\n",
      "Epoch 29/50\n",
      "824/824 [==============================] - 9s 11ms/step - loss: 2.6601e-04 - acc: 1.0000 - val_loss: 2.0838 - val_acc: 0.6133\n",
      "Epoch 30/50\n",
      "824/824 [==============================] - 9s 11ms/step - loss: 2.5978e-04 - acc: 1.0000 - val_loss: 2.0964 - val_acc: 0.6158\n",
      "Epoch 31/50\n",
      "824/824 [==============================] - 9s 11ms/step - loss: 2.3512e-04 - acc: 1.0000 - val_loss: 2.1133 - val_acc: 0.6084\n",
      "Epoch 32/50\n",
      "824/824 [==============================] - 10s 12ms/step - loss: 4.3269e-04 - acc: 1.0000 - val_loss: 2.1160 - val_acc: 0.6182\n",
      "Epoch 33/50\n",
      "824/824 [==============================] - 9s 11ms/step - loss: 3.1468e-04 - acc: 1.0000 - val_loss: 2.1176 - val_acc: 0.6084\n",
      "Epoch 34/50\n",
      "824/824 [==============================] - 9s 11ms/step - loss: 1.5659e-04 - acc: 1.0000 - val_loss: 2.1286 - val_acc: 0.6084\n",
      "Epoch 35/50\n",
      "824/824 [==============================] - 9s 11ms/step - loss: 1.7643e-04 - acc: 1.0000 - val_loss: 2.1396 - val_acc: 0.6108\n",
      "Epoch 36/50\n",
      "824/824 [==============================] - 9s 11ms/step - loss: 1.4910e-04 - acc: 1.0000 - val_loss: 2.1526 - val_acc: 0.6182\n",
      "Epoch 37/50\n",
      "824/824 [==============================] - 10s 13ms/step - loss: 1.7929e-04 - acc: 1.0000 - val_loss: 2.1595 - val_acc: 0.6158\n",
      "Epoch 38/50\n",
      "824/824 [==============================] - 10s 12ms/step - loss: 1.1917e-04 - acc: 1.0000 - val_loss: 2.1707 - val_acc: 0.6133\n",
      "Epoch 39/50\n",
      "824/824 [==============================] - 10s 12ms/step - loss: 2.0549e-04 - acc: 1.0000 - val_loss: 2.1788 - val_acc: 0.6207\n",
      "Epoch 40/50\n",
      "824/824 [==============================] - 9s 11ms/step - loss: 1.4489e-04 - acc: 1.0000 - val_loss: 2.1959 - val_acc: 0.6084\n",
      "Epoch 41/50\n",
      "824/824 [==============================] - 9s 11ms/step - loss: 9.2775e-05 - acc: 1.0000 - val_loss: 2.2049 - val_acc: 0.6133\n",
      "Epoch 42/50\n",
      "824/824 [==============================] - 10s 12ms/step - loss: 9.1298e-05 - acc: 1.0000 - val_loss: 2.2109 - val_acc: 0.6133\n",
      "Epoch 43/50\n",
      "824/824 [==============================] - 12s 14ms/step - loss: 9.6592e-05 - acc: 1.0000 - val_loss: 2.2163 - val_acc: 0.6133\n",
      "Epoch 44/50\n",
      "824/824 [==============================] - 10s 12ms/step - loss: 8.8783e-05 - acc: 1.0000 - val_loss: 2.2261 - val_acc: 0.6133\n",
      "Epoch 45/50\n",
      "824/824 [==============================] - 11s 13ms/step - loss: 9.3970e-05 - acc: 1.0000 - val_loss: 2.2307 - val_acc: 0.6158\n",
      "Epoch 46/50\n",
      "824/824 [==============================] - 10s 12ms/step - loss: 1.1785e-04 - acc: 1.0000 - val_loss: 2.2500 - val_acc: 0.6256\n",
      "Epoch 47/50\n",
      "824/824 [==============================] - 10s 12ms/step - loss: 8.1086e-05 - acc: 1.0000 - val_loss: 2.2532 - val_acc: 0.6084\n",
      "Epoch 48/50\n",
      "824/824 [==============================] - 10s 12ms/step - loss: 1.0428e-04 - acc: 1.0000 - val_loss: 2.2576 - val_acc: 0.6281\n",
      "Epoch 49/50\n",
      "824/824 [==============================] - 10s 12ms/step - loss: 1.0933e-04 - acc: 1.0000 - val_loss: 2.2640 - val_acc: 0.6232\n",
      "Epoch 50/50\n",
      "824/824 [==============================] - 11s 13ms/step - loss: 8.1687e-05 - acc: 1.0000 - val_loss: 2.2709 - val_acc: 0.6207\n"
     ]
    }
   ],
   "source": [
    "# CNNを構築\n",
    "model = Sequential()\n",
    "\n",
    "model.add(Conv2D(32, (3, 3), padding='same',\n",
    "                 input_shape=x_train.shape[1:]))\n",
    "model.add(Activation('relu'))\n",
    "model.add(MaxPooling2D(pool_size=(2, 2)))\n",
    "model.add(BatchNormalization())\n",
    "\n",
    "model.add(Conv2D(64, (3, 3), padding='same',\n",
    "                 input_shape=x_train.shape[1:]))\n",
    "model.add(Activation('relu'))\n",
    "model.add(MaxPooling2D(pool_size=(2, 2)))\n",
    "model.add(BatchNormalization())\n",
    "\n",
    "model.add(Flatten())\n",
    "model.add(Dense(512))\n",
    "model.add(Activation('relu'))\n",
    "model.add(Dense(2))       # クラスは2個\n",
    "model.add(Activation('softmax'))\n",
    "\n",
    "# コンパイル\n",
    "model.compile(loss='categorical_crossentropy',\n",
    "              optimizer='Adam',\n",
    "              metrics=['accuracy'])\n",
    "\n",
    "# 実行。出力はなしで設定(verbose=0)。\n",
    "history = model.fit(x_train, t_train, batch_size=10, epochs=50,\n",
    "                   validation_data = (x_test, t_test))"
   ]
  },
  {
   "cell_type": "code",
   "execution_count": 27,
   "metadata": {},
   "outputs": [
    {
     "data": {
      "image/png": "[encoded data removed]",
      "text/plain": [
       "<matplotlib.figure.Figure at 0x1a2bffb940>"
      ]
     },
     "metadata": {},
     "output_type": "display_data"
    }
   ],
   "source": [
    "\n",
    "\n",
    "plt.plot(history.history['acc'])\n",
    "plt.plot(history.history['val_acc'])\n",
    "plt.title('model accuracy')\n",
    "plt.xlabel('epoch')\n",
    "plt.ylabel('accuracy')\n",
    "plt.legend(['acc', 'val_acc'], loc='lower right')\n",
    "plt.show()"
   ]
  },
  {
   "cell_type": "code",
   "execution_count": null,
   "metadata": {
    "collapsed": true
   },
   "outputs": [],
   "source": []
  }
 ],
 "metadata": {
  "kernelspec": {
   "display_name": "Python 3",
   "language": "python",
   "name": "python3"
  },
  "language_info": {
   "codemirror_mode": {
    "name": "ipython",
    "version": 3
   },
   "file_extension": ".py",
   "mimetype": "text/x-python",
   "name": "python",
   "nbconvert_exporter": "python",
   "pygments_lexer": "ipython3",
   "version": "3.6.3"
  }
 },
 "nbformat": 4,
 "nbformat_minor": 2
}
