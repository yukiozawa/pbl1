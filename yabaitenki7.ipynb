{
 "cells": [
  {
   "cell_type": "code",
   "execution_count": 46,
   "metadata": {},
   "outputs": [],
   "source": [
    "\n",
    "import keras\n",
    "from keras.utils import np_utils\n",
    "from keras.layers.convolutional import Conv2D, MaxPooling2D\n",
    "from keras.models import Sequential\n",
    "from keras.layers.core import Dense, Dropout, Activation, Flatten\n",
    "from keras.layers import BatchNormalization\n",
    "from keras.preprocessing.image import array_to_img, img_to_array, list_pictures, load_img\n",
    "from keras.callbacks import EarlyStopping\n",
    "\n",
    "import numpy as np\n",
    "import pandas as pd\n",
    "from sklearn.model_selection import train_test_split\n",
    "import matplotlib.pyplot as plt\n",
    "import pandas as pd\n"
   ]
  },
  {
   "cell_type": "code",
   "execution_count": 4,
   "metadata": {},
   "outputs": [],
   "source": [
    "from PIL import Image\n",
    "import os, glob\n",
    "import random, math"
   ]
  },
  {
   "cell_type": "code",
   "execution_count": 47,
   "metadata": {},
   "outputs": [],
   "source": [
    "from keras.preprocessing.image import ImageDataGenerator, load_img, img_to_array, array_to_img"
   ]
  },
  {
   "cell_type": "code",
   "execution_count": 48,
   "metadata": {},
   "outputs": [],
   "source": [
    "\n",
    "df = pd.read_csv(\"data_all.csv\")\n",
    "# df.head()\n",
    "\n",
    "x, t = [], []\n",
    "\n",
    "for (i, row) in df.iterrows():\n",
    "    filepath = row['filepath']\n",
    "    tmp_img = load_img(filepath, target_size=(32,32))\n",
    "    img = img_to_array(tmp_img) / 255.0 # -> float32 + 正規化\n",
    "    \n",
    "    # データに追加\n",
    "    x.append(img)\n",
    "    t.append(row['label'])\n",
    "    \n",
    "# numpyに変換\n",
    "x = np.array(x, 'f')\n",
    "\n",
    "# x.shape\n",
    "\n",
    "# クラスの形式を変換 <- one-hot表現\n",
    "t = np_utils.to_categorical(t, 2)\n",
    "\n",
    "# 学習用データとテストデータ\n",
    "x_train, x_test, t_train, t_test = train_test_split(x, t, test_size=0.2, random_state=1)\n",
    "\n",
    "\n"
   ]
  },
  {
   "cell_type": "code",
   "execution_count": 66,
   "metadata": {},
   "outputs": [],
   "source": [
    "# CNNを構築\n",
    "model = Sequential()\n",
    "\n",
    "model.add(Conv2D(32, (3, 3), padding='same',\n",
    "                 input_shape=x_train.shape[1:]))\n",
    "model.add(Activation('relu'))\n",
    "model.add(MaxPooling2D(pool_size=(2, 2)))\n",
    "model.add(Dropout(0.25))\n",
    "model.add(Flatten())\n",
    "model.add(Dense(512))\n",
    "model.add(Activation('relu'))\n",
    "model.add(Dropout(0.5))\n",
    "model.add(Dense(2))       # クラスは2個\n",
    "model.add(Activation('softmax'))\n",
    "\n",
    "# コンパイル\n",
    "model.compile(loss='categorical_crossentropy',\n",
    "              optimizer='Adam',\n",
    "              metrics=['accuracy'])\n",
    "\n"
   ]
  },
  {
   "cell_type": "code",
   "execution_count": 67,
   "metadata": {},
   "outputs": [
    {
     "name": "stdout",
     "output_type": "stream",
     "text": [
      "Epoch 1/50\n",
      "99/99 [==============================] - 10s 101ms/step - loss: 1.3077 - acc: 0.5647 - val_loss: 0.6822 - val_acc: 0.5935\n",
      "Epoch 2/50\n",
      "99/99 [==============================] - 9s 91ms/step - loss: 0.6793 - acc: 0.6111 - val_loss: 0.6850 - val_acc: 0.5569\n",
      "Epoch 3/50\n",
      "99/99 [==============================] - 9s 93ms/step - loss: 0.6562 - acc: 0.6106 - val_loss: 0.6873 - val_acc: 0.5122\n",
      "Epoch 4/50\n",
      "99/99 [==============================] - 9s 90ms/step - loss: 0.6328 - acc: 0.6576 - val_loss: 0.6866 - val_acc: 0.5610\n",
      "Epoch 5/50\n",
      "99/99 [==============================] - 9s 92ms/step - loss: 0.6410 - acc: 0.6404 - val_loss: 0.6833 - val_acc: 0.5691\n",
      "Epoch 6/50\n",
      "99/99 [==============================] - 9s 90ms/step - loss: 0.6353 - acc: 0.6419 - val_loss: 0.6839 - val_acc: 0.5732\n",
      "Epoch 7/50\n",
      "99/99 [==============================] - 9s 92ms/step - loss: 0.6474 - acc: 0.6369 - val_loss: 0.6867 - val_acc: 0.5528\n",
      "Epoch 8/50\n",
      "99/99 [==============================] - 9s 92ms/step - loss: 0.6429 - acc: 0.6439 - val_loss: 0.6877 - val_acc: 0.5325\n",
      "Epoch 9/50\n",
      "99/99 [==============================] - 9s 91ms/step - loss: 0.6471 - acc: 0.6424 - val_loss: 0.6854 - val_acc: 0.5691\n",
      "Epoch 10/50\n",
      "99/99 [==============================] - 9s 92ms/step - loss: 0.6328 - acc: 0.6364 - val_loss: 0.6908 - val_acc: 0.5122\n",
      "Epoch 11/50\n",
      "99/99 [==============================] - 9s 91ms/step - loss: 0.6285 - acc: 0.6515 - val_loss: 0.6896 - val_acc: 0.5488\n",
      "Epoch 12/50\n",
      "99/99 [==============================] - 9s 93ms/step - loss: 0.6215 - acc: 0.6505 - val_loss: 0.6874 - val_acc: 0.5447\n",
      "Epoch 13/50\n",
      "99/99 [==============================] - 9s 92ms/step - loss: 0.6252 - acc: 0.6540 - val_loss: 0.6858 - val_acc: 0.5813\n",
      "Epoch 14/50\n",
      "99/99 [==============================] - 9s 93ms/step - loss: 0.6201 - acc: 0.6500 - val_loss: 0.6906 - val_acc: 0.5569\n",
      "Epoch 15/50\n",
      "99/99 [==============================] - 9s 93ms/step - loss: 0.6270 - acc: 0.6540 - val_loss: 0.6928 - val_acc: 0.5285\n",
      "Epoch 16/50\n",
      "99/99 [==============================] - 9s 92ms/step - loss: 0.6094 - acc: 0.6636 - val_loss: 0.6914 - val_acc: 0.5569\n",
      "Epoch 17/50\n",
      "99/99 [==============================] - 9s 94ms/step - loss: 0.6267 - acc: 0.6429 - val_loss: 0.6905 - val_acc: 0.5081\n",
      "Epoch 18/50\n",
      "99/99 [==============================] - 9s 94ms/step - loss: 0.6189 - acc: 0.6641 - val_loss: 0.6891 - val_acc: 0.5650\n",
      "Epoch 19/50\n",
      "99/99 [==============================] - 9s 96ms/step - loss: 0.6161 - acc: 0.6672 - val_loss: 0.6852 - val_acc: 0.5650\n",
      "Epoch 20/50\n",
      "99/99 [==============================] - 9s 95ms/step - loss: 0.6394 - acc: 0.6313 - val_loss: 0.6817 - val_acc: 0.5488\n",
      "Epoch 21/50\n",
      "99/99 [==============================] - 10s 97ms/step - loss: 0.6165 - acc: 0.6485 - val_loss: 0.6818 - val_acc: 0.5488\n",
      "Epoch 22/50\n",
      "99/99 [==============================] - 10s 102ms/step - loss: 0.6245 - acc: 0.6490 - val_loss: 0.7025 - val_acc: 0.5203\n",
      "Epoch 23/50\n",
      "99/99 [==============================] - 10s 99ms/step - loss: 0.6189 - acc: 0.6611 - val_loss: 0.6861 - val_acc: 0.5610\n",
      "Epoch 24/50\n",
      "99/99 [==============================] - 10s 98ms/step - loss: 0.6038 - acc: 0.6571 - val_loss: 0.6899 - val_acc: 0.5244\n",
      "Epoch 25/50\n",
      "99/99 [==============================] - 10s 99ms/step - loss: 0.6277 - acc: 0.6530 - val_loss: 0.6839 - val_acc: 0.5691\n",
      "Epoch 26/50\n",
      "99/99 [==============================] - 10s 101ms/step - loss: 0.6101 - acc: 0.6677 - val_loss: 0.6836 - val_acc: 0.5691\n",
      "Epoch 27/50\n",
      "99/99 [==============================] - 11s 108ms/step - loss: 0.6088 - acc: 0.6783 - val_loss: 0.6854 - val_acc: 0.5285\n",
      "Epoch 28/50\n",
      "99/99 [==============================] - 12s 116ms/step - loss: 0.6183 - acc: 0.6551 - val_loss: 0.6838 - val_acc: 0.5691\n",
      "Epoch 29/50\n",
      "99/99 [==============================] - 11s 109ms/step - loss: 0.6012 - acc: 0.6757 - val_loss: 0.6885 - val_acc: 0.5285\n",
      "Epoch 30/50\n",
      "99/99 [==============================] - 11s 106ms/step - loss: 0.6156 - acc: 0.6490 - val_loss: 0.6750 - val_acc: 0.5610\n",
      "Epoch 31/50\n",
      "99/99 [==============================] - 10s 104ms/step - loss: 0.6016 - acc: 0.6808 - val_loss: 0.6895 - val_acc: 0.5569\n",
      "Epoch 32/50\n",
      "99/99 [==============================] - 10s 105ms/step - loss: 0.6026 - acc: 0.6631 - val_loss: 0.6849 - val_acc: 0.5407\n",
      "Epoch 33/50\n",
      "99/99 [==============================] - 10s 105ms/step - loss: 0.5850 - acc: 0.6722 - val_loss: 0.6920 - val_acc: 0.5203\n",
      "Epoch 34/50\n",
      "99/99 [==============================] - 10s 103ms/step - loss: 0.6180 - acc: 0.6651 - val_loss: 0.6873 - val_acc: 0.5488\n",
      "Epoch 35/50\n",
      "99/99 [==============================] - 10s 104ms/step - loss: 0.6177 - acc: 0.6510 - val_loss: 0.6907 - val_acc: 0.5447\n",
      "Epoch 36/50\n",
      "99/99 [==============================] - 10s 104ms/step - loss: 0.6096 - acc: 0.6631 - val_loss: 0.6825 - val_acc: 0.5528\n",
      "Epoch 37/50\n",
      "99/99 [==============================] - 10s 106ms/step - loss: 0.6054 - acc: 0.6763 - val_loss: 0.6914 - val_acc: 0.5285\n",
      "Epoch 38/50\n",
      "99/99 [==============================] - 11s 109ms/step - loss: 0.5951 - acc: 0.6601 - val_loss: 0.6754 - val_acc: 0.5691\n",
      "Epoch 39/50\n",
      "99/99 [==============================] - 11s 111ms/step - loss: 0.5934 - acc: 0.6773 - val_loss: 0.6807 - val_acc: 0.5488\n",
      "Epoch 40/50\n",
      "99/99 [==============================] - 10s 100ms/step - loss: 0.5868 - acc: 0.6874 - val_loss: 0.6832 - val_acc: 0.5366\n",
      "Epoch 41/50\n",
      "99/99 [==============================] - 10s 106ms/step - loss: 0.6051 - acc: 0.6788 - val_loss: 0.6875 - val_acc: 0.5122\n",
      "Epoch 42/50\n",
      "99/99 [==============================] - 11s 107ms/step - loss: 0.6103 - acc: 0.6651 - val_loss: 0.6879 - val_acc: 0.5407\n",
      "Epoch 43/50\n",
      "99/99 [==============================] - 10s 105ms/step - loss: 0.5868 - acc: 0.6677 - val_loss: 0.6806 - val_acc: 0.5528\n",
      "Epoch 44/50\n",
      "99/99 [==============================] - 10s 105ms/step - loss: 0.5930 - acc: 0.6778 - val_loss: 0.6888 - val_acc: 0.5447\n",
      "Epoch 45/50\n",
      "99/99 [==============================] - 10s 105ms/step - loss: 0.5991 - acc: 0.6606 - val_loss: 0.6836 - val_acc: 0.5691\n",
      "Epoch 46/50\n",
      "99/99 [==============================] - 10s 105ms/step - loss: 0.5742 - acc: 0.6823 - val_loss: 0.6805 - val_acc: 0.5772\n",
      "Epoch 47/50\n",
      "99/99 [==============================] - 11s 108ms/step - loss: 0.5757 - acc: 0.7000 - val_loss: 0.6926 - val_acc: 0.5610\n",
      "Epoch 48/50\n",
      "99/99 [==============================] - 10s 105ms/step - loss: 0.5980 - acc: 0.6848 - val_loss: 0.6728 - val_acc: 0.5976\n",
      "Epoch 49/50\n",
      "99/99 [==============================] - 11s 108ms/step - loss: 0.5767 - acc: 0.6828 - val_loss: 0.6759 - val_acc: 0.6098\n",
      "Epoch 50/50\n",
      "99/99 [==============================] - 11s 108ms/step - loss: 0.5814 - acc: 0.6965 - val_loss: 0.6754 - val_acc: 0.5691\n"
     ]
    }
   ],
   "source": [
    "datagen = ImageDataGenerator(\n",
    "    featurewise_center=True,\n",
    "    featurewise_std_normalization=True,\n",
    "    rotation_range=20,\n",
    "    width_shift_range=0.2,\n",
    "    height_shift_range=0.2,\n",
    "    horizontal_flip=True)\n",
    "\n",
    "datagen.fit(x_train)\n",
    "\n",
    "early_stopping = EarlyStopping(monitor='val_loss', patience=20 , verbose=1, mode=\"auto\")\n",
    "\n",
    "history = model.fit_generator(datagen.flow(x_train, t_train, batch_size=10),\n",
    "                              epochs=50,\n",
    "                              verbose=1,\n",
    "                              validation_data=(x_test,t_test),\n",
    "                              callbacks=[early_stopping])"
   ]
  },
  {
   "cell_type": "code",
   "execution_count": 68,
   "metadata": {},
   "outputs": [
    {
     "data": {
      "image/png": "[encoded data removed]",
      "text/plain": [
       "<matplotlib.figure.Figure at 0x24d80ef27b8>"
      ]
     },
     "metadata": {},
     "output_type": "display_data"
    }
   ],
   "source": [
    "\n",
    "plt.plot(history.history['acc'])\n",
    "plt.plot(history.history['val_acc'])\n",
    "plt.title('model accuracy')\n",
    "plt.xlabel('epoch')\n",
    "plt.ylabel('accuracy')\n",
    "plt.legend(['acc', 'val_acc'], loc='lower right')\n",
    "plt.show()"
   ]
  },
  {
   "cell_type": "code",
   "execution_count": 69,
   "metadata": {},
   "outputs": [
    {
     "data": {
      "image/png": "[encoded data removed]",
      "text/plain": [
       "<matplotlib.figure.Figure at 0x24d81aa0cf8>"
      ]
     },
     "metadata": {},
     "output_type": "display_data"
    }
   ],
   "source": [
    "\n",
    "plt.plot(history.history['loss'])\n",
    "plt.plot(history.history['val_loss'])\n",
    "plt.title('model loss')\n",
    "plt.xlabel('epoch')\n",
    "plt.ylabel('loss')\n",
    "plt.legend(['loss', 'val_loss'], loc='lower right')\n",
    "plt.show()"
   ]
  },
  {
   "cell_type": "code",
   "execution_count": 70,
   "metadata": {},
   "outputs": [
    {
     "name": "stdout",
     "output_type": "stream",
     "text": [
      "246/246 [==============================] - 0s 562us/step\n"
     ]
    },
    {
     "data": {
      "text/plain": [
       "[0.675447731967864, 0.5691056900877294]"
      ]
     },
     "execution_count": 70,
     "metadata": {},
     "output_type": "execute_result"
    }
   ],
   "source": [
    "model.evaluate(x_test,t_test)"
   ]
  },
  {
   "cell_type": "code",
   "execution_count": null,
   "metadata": {},
   "outputs": [],
   "source": []
  }
 ],
 "metadata": {
  "kernelspec": {
   "display_name": "Python 3",
   "language": "python",
   "name": "python3"
  },
  "language_info": {
   "codemirror_mode": {
    "name": "ipython",
    "version": 3
   },
   "file_extension": ".py",
   "mimetype": "text/x-python",
   "name": "python",
   "nbconvert_exporter": "python",
   "pygments_lexer": "ipython3",
   "version": "3.6.4"
  }
 },
 "nbformat": 4,
 "nbformat_minor": 2
}
